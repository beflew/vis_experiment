{
 "cells": [
  {
   "cell_type": "code",
   "execution_count": 59,
   "metadata": {
    "collapsed": false
   },
   "outputs": [],
   "source": [
    "import json\n",
    "import requests\n",
    "import pandas as pd\n",
    "import numpy as ny\n",
    "import math"
   ]
  },
  {
   "cell_type": "code",
   "execution_count": 60,
   "metadata": {
    "collapsed": false
   },
   "outputs": [],
   "source": [
    "data_url = 'http://api.duoshuo.com/threads/listPosts.json?short_name=experiments&thread_key=experiment&limit=100'\n",
    "response=requests.get(data_url)"
   ]
  },
  {
   "cell_type": "code",
   "execution_count": 61,
   "metadata": {
    "collapsed": false
   },
   "outputs": [],
   "source": [
    "result_json=response.json()['parentPosts']\n",
    "messagejson=[]\n",
    "for key in result_json:\n",
    "    message=result_json[key][\"message\"].replace(\"&quot;\",\"\\\"\")\n",
    "    messagejson.append(json.loads(message))\n",
    "def logaccu(report,truth):\n",
    "    return math.log(abs(int(report)-truth)/100.0+0.125)"
   ]
  },
  {
   "cell_type": "code",
   "execution_count": 62,
   "metadata": {
    "collapsed": false
   },
   "outputs": [],
   "source": [
    "data=pd.DataFrame(messagejson)"
   ]
  },
  {
   "cell_type": "code",
   "execution_count": 63,
   "metadata": {
    "collapsed": false
   },
   "outputs": [
    {
     "data": {
      "text/plain": [
       "'{\"uuid\":\"0bbcbe52-a308-4462-8860-2f2fcd29fbf5\",\"reportPercent\":\"80\",\"truth\":72,\"type\":0,\"perType\":2,\"distType\":2}'"
      ]
     },
     "execution_count": 63,
     "metadata": {},
     "output_type": "execute_result"
    }
   ],
   "source": [
    "data.to_csv(\"E:\\\\GitHub\\\\05-Experiment\\\\result.csv\")\n",
    "message"
   ]
  },
  {
   "cell_type": "code",
   "execution_count": 64,
   "metadata": {
    "collapsed": false
   },
   "outputs": [],
   "source": [
    "accuracy=[[0,0,0],[0,0,0],[0,0,0]]\n",
    "typeE=[[0,0,0],[0,0,0],[0,0,0]]\n",
    "for message in messagejson:\n",
    "    x=message[\"perType\"]\n",
    "    y=message['distType']\n",
    "    typeE[x][y]=typeE[x][y]+message['type']\n",
    "    accuracy[x][y]=accuracy[x][y]+logaccu(message['reportPercent'],message['truth'])\n",
    "for i in range(3):\n",
    "    for j in range(3):\n",
    "        accuracy[i][j]=accuracy[i][j]/9"
   ]
  },
  {
   "cell_type": "code",
   "execution_count": 65,
   "metadata": {
    "collapsed": false
   },
   "outputs": [
    {
     "data": {
      "text/plain": [
       "[[-1.793476302177818, -1.8791022655912966, -1.9201711126713177],\n",
       " [-1.7495758160831285, -1.8356254303046216, -1.8111136181765142],\n",
       " [-1.6241007101482163, -1.7422171167045106, -1.806238411296955]]"
      ]
     },
     "execution_count": 65,
     "metadata": {},
     "output_type": "execute_result"
    }
   ],
   "source": [
    "accuracy"
   ]
  },
  {
   "cell_type": "code",
   "execution_count": 67,
   "metadata": {
    "collapsed": false
   },
   "outputs": [],
   "source": [
    "accrucyData=pd.DataFrame(accuracy)"
   ]
  },
  {
   "cell_type": "code",
   "execution_count": 69,
   "metadata": {
    "collapsed": true
   },
   "outputs": [],
   "source": [
    "accrucyData.to_csv(\"E:\\\\GitHub\\\\05-Experiment\\\\final_result.csv\")"
   ]
  },
  {
   "cell_type": "code",
   "execution_count": null,
   "metadata": {
    "collapsed": true
   },
   "outputs": [],
   "source": []
  }
 ],
 "metadata": {
  "kernelspec": {
   "display_name": "Python 3",
   "language": "python",
   "name": "python3"
  },
  "language_info": {
   "codemirror_mode": {
    "name": "ipython",
    "version": 3
   },
   "file_extension": ".py",
   "mimetype": "text/x-python",
   "name": "python",
   "nbconvert_exporter": "python",
   "pygments_lexer": "ipython3",
   "version": "3.5.0"
  }
 },
 "nbformat": 4,
 "nbformat_minor": 0
}
